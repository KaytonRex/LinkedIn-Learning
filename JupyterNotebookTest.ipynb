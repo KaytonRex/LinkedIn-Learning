{
 "cells": [
  {
   "cell_type": "code",
   "execution_count": 2,
   "metadata": {},
   "outputs": [
    {
     "name": "stdout",
     "output_type": "stream",
     "text": [
      "Hello World!\n"
     ]
    }
   ],
   "source": [
    "# Just a test to see about getting Jupyter Notebooks in VS Code.\n",
    "print(\"Hello World!\")"
   ]
  },
  {
   "cell_type": "code",
   "execution_count": 2,
   "metadata": {},
   "outputs": [],
   "source": [
    "# Add the imports\n",
    "import math as m\n",
    "import random as r"
   ]
  },
  {
   "cell_type": "code",
   "execution_count": 6,
   "metadata": {},
   "outputs": [
    {
     "name": "stdout",
     "output_type": "stream",
     "text": [
      "Number List was: [5, 5, 7, 8, 7, 9, 9, 1, 3, 3] \n",
      "Sum of list was: 57.0\n"
     ]
    }
   ],
   "source": [
    "numberList = []\n",
    "for i in range(10):\n",
    "    numberList.append(r.randint(1,10))\n",
    "\n",
    "print(f\"Number List was: {numberList} \\nSum of list was: {m.fsum(numberList)}\")\n"
   ]
  }
 ],
 "metadata": {
  "kernelspec": {
   "display_name": "Python 3.10.7 64-bit",
   "language": "python",
   "name": "python3"
  },
  "language_info": {
   "codemirror_mode": {
    "name": "ipython",
    "version": 3
   },
   "file_extension": ".py",
   "mimetype": "text/x-python",
   "name": "python",
   "nbconvert_exporter": "python",
   "pygments_lexer": "ipython3",
   "version": "3.10.7"
  },
  "orig_nbformat": 4,
  "vscode": {
   "interpreter": {
    "hash": "ecfb5cf0d22f914183cad2a98b72006d92f134a324888e3104827dc7a779e206"
   }
  }
 },
 "nbformat": 4,
 "nbformat_minor": 2
}
